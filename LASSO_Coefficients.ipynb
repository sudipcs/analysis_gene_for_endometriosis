{
 "cells": [
  {
   "cell_type": "code",
   "execution_count": 8,
   "id": "1b95f400",
   "metadata": {},
   "outputs": [
    {
     "name": "stderr",
     "output_type": "stream",
     "text": [
      "01-Sep-2024 11:58:18 DEBUG utils - Directory ./ already exists. Skipping.\n",
      "01-Sep-2024 11:58:18 INFO GEOparse - File already exist: using local version.\n",
      "01-Sep-2024 11:58:18 INFO GEOparse - Parsing ./GSE11691_family.soft.gz: \n",
      "01-Sep-2024 11:58:18 DEBUG GEOparse - DATABASE: GeoMiame\n",
      "01-Sep-2024 11:58:18 DEBUG GEOparse - SERIES: GSE11691\n",
      "01-Sep-2024 11:58:18 DEBUG GEOparse - PLATFORM: GPL96\n",
      "01-Sep-2024 11:58:19 DEBUG GEOparse - SAMPLE: GSM296875\n",
      "01-Sep-2024 11:58:19 DEBUG GEOparse - SAMPLE: GSM296876\n",
      "01-Sep-2024 11:58:19 DEBUG GEOparse - SAMPLE: GSM296877\n",
      "01-Sep-2024 11:58:19 DEBUG GEOparse - SAMPLE: GSM296878\n",
      "01-Sep-2024 11:58:20 DEBUG GEOparse - SAMPLE: GSM296879\n",
      "01-Sep-2024 11:58:20 DEBUG GEOparse - SAMPLE: GSM296880\n",
      "01-Sep-2024 11:58:20 DEBUG GEOparse - SAMPLE: GSM296881\n",
      "01-Sep-2024 11:58:20 DEBUG GEOparse - SAMPLE: GSM296882\n",
      "01-Sep-2024 11:58:20 DEBUG GEOparse - SAMPLE: GSM296883\n",
      "01-Sep-2024 11:58:20 DEBUG GEOparse - SAMPLE: GSM296884\n",
      "01-Sep-2024 11:58:20 DEBUG GEOparse - SAMPLE: GSM296885\n",
      "01-Sep-2024 11:58:20 DEBUG GEOparse - SAMPLE: GSM296886\n",
      "01-Sep-2024 11:58:20 DEBUG GEOparse - SAMPLE: GSM296887\n",
      "01-Sep-2024 11:58:20 DEBUG GEOparse - SAMPLE: GSM296888\n",
      "01-Sep-2024 11:58:20 DEBUG GEOparse - SAMPLE: GSM296889\n",
      "01-Sep-2024 11:58:20 DEBUG GEOparse - SAMPLE: GSM296890\n",
      "01-Sep-2024 11:58:20 DEBUG GEOparse - SAMPLE: GSM296891\n",
      "01-Sep-2024 11:58:21 DEBUG GEOparse - SAMPLE: GSM296892\n"
     ]
    }
   ],
   "source": [
    "import GEOparse\n",
    "import pandas as pd\n",
    "import numpy as np\n",
    "from sklearn.linear_model import Lasso\n",
    "from sklearn.preprocessing import StandardScaler\n",
    "from sklearn.cluster import KMeans\n",
    "from sklearn.decomposition import PCA\n",
    "import matplotlib.pyplot as plt\n",
    "import seaborn as sns\n",
    "\n",
    "# Step 1: Load and preprocess the GSE dataset\n",
    "gse = GEOparse.get_GEO(\"GSE11691\")\n",
    "expression_data = pd.DataFrame({\n",
    "    gsm: gse.gsms[gsm].table.set_index('ID_REF')['VALUE']\n",
    "    for gsm in gse.gsms.keys()\n",
    "}).T\n",
    "\n",
    "# Step 2: Standardize the data\n",
    "scaler = StandardScaler()\n",
    "X_scaled = scaler.fit_transform(expression_data)\n",
    "\n"
   ]
  },
  {
   "cell_type": "markdown",
   "id": "9833daf3",
   "metadata": {},
   "source": [
    "### Apply LASSO to select relevant genes and Use a specific alpha value to ensure some features are selected"
   ]
  },
  {
   "cell_type": "code",
   "execution_count": 9,
   "id": "15209b6d",
   "metadata": {},
   "outputs": [
    {
     "name": "stdout",
     "output_type": "stream",
     "text": [
      "Silhouette Score: 0.30727010949657463\n"
     ]
    },
    {
     "data": {
      "image/png": "[encoded data removed]",
      "text/plain": [
       "<Figure size 720x432 with 1 Axes>"
      ]
     },
     "metadata": {
      "needs_background": "light"
     },
     "output_type": "display_data"
    }
   ],
   "source": [
    "# Step 3: Apply LASSO to select relevant genes\n",
    "\n",
    "alpha_value = 0.01  # You can adjust this value\n",
    "lasso = Lasso(alpha=alpha_value)\n",
    "lasso.fit(X_scaled, np.random.choice([0, 1], size=expression_data.shape[0]))\n",
    "\n",
    "lasso_coef = lasso.coef_\n",
    "\n",
    "# Ensure some features are selected\n",
    "if np.sum(lasso_coef != 0) == 0:\n",
    "    print(\"No features were selected. Consider lowering the alpha value.\")\n",
    "else:\n",
    "    # Select genes with non-zero coefficients\n",
    "    selected_genes = expression_data.columns[lasso_coef != 0]\n",
    "    X_selected = X_scaled[:, lasso_coef != 0]\n",
    "\n",
    "    # Step 4: Clustering on selected features\n",
    "    kmeans = KMeans(n_clusters=3, random_state=42)\n",
    "    clusters = kmeans.fit_predict(X_selected)\n",
    "\n",
    "    # Step 5: Evaluate and visualize clusters\n",
    "    # Silhouette Score\n",
    "    silhouette_avg = silhouette_score(X_selected, clusters)\n",
    "    print(f\"Silhouette Score: {silhouette_avg}\")\n",
    "\n",
    "    # PCA for 2D visualization\n",
    "    pca = PCA(n_components=2)\n",
    "    X_pca = pca.fit_transform(X_selected)\n",
    "\n",
    "    plt.figure(figsize=(10, 6))\n",
    "    sns.scatterplot(x=X_pca[:, 0], y=X_pca[:, 1], hue=clusters, palette='viridis')\n",
    "    plt.title('Clustering Results (PCA Visualization)')\n",
    "    plt.xlabel('PCA Component 1')\n",
    "    plt.ylabel('PCA Component 2')\n",
    "    plt.show()\n"
   ]
  },
  {
   "cell_type": "code",
   "execution_count": null,
   "id": "c1a3420d",
   "metadata": {},
   "outputs": [],
   "source": []
  }
 ],
 "metadata": {
  "kernelspec": {
   "display_name": "Python 3 (ipykernel)",
   "language": "python",
   "name": "python3"
  },
  "language_info": {
   "codemirror_mode": {
    "name": "ipython",
    "version": 3
   },
   "file_extension": ".py",
   "mimetype": "text/x-python",
   "name": "python",
   "nbconvert_exporter": "python",
   "pygments_lexer": "ipython3",
   "version": "3.9.7"
  }
 },
 "nbformat": 4,
 "nbformat_minor": 5
}
